{
 "cells": [
  {
   "cell_type": "code",
   "execution_count": 0,
   "metadata": {
    "application/vnd.databricks.v1+cell": {
     "cellMetadata": {
      "byteLimit": 2048000,
      "implicitDf": true,
      "rowLimit": 10000
     },
     "inputWidgets": {},
     "nuid": "0dd14b6c-b1da-4fdb-b2da-7c82922393e7",
     "showTitle": false,
     "tableResultSettingsMap": {},
     "title": ""
    }
   },
   "outputs": [],
   "source": [
    "%sql\n",
    "CREATE TABLE beans \n",
    "(name STRING, color STRING, grams FLOAT, delicious BOOLEAN);\n",
    "\n",
    "INSERT INTO beans VALUES\n",
    "(\"black\", \"black\", 500, true),\n",
    "(\"lentils\", \"brown\", 1000, true),\n",
    "(\"jelly\", \"rainbow\", 42.5, false);\n",
    "\n",
    "INSERT INTO beans VALUES\n",
    "('pinto', 'brown', 1.5, true),\n",
    "('green', 'green', 178.3, true),\n",
    "('beanbag chair', 'white', 40000, false);\n",
    "\n",
    "UPDATE beans\n",
    "SET delicious = true\n",
    "WHERE name = \"jelly\";\n",
    "\n",
    "UPDATE beans\n",
    "SET grams = 1500\n",
    "WHERE name = 'pinto';\n",
    "\n",
    "DELETE FROM beans\n",
    "WHERE delicious = false;\n",
    "\n",
    "CREATE OR REPLACE TEMP VIEW new_beans(name, color, grams, delicious) AS VALUES\n",
    "('black', 'black', 60.5, true),\n",
    "('lentils', 'green', 500, true),\n",
    "('kidney', 'red', 387.2, true),\n",
    "('castor', 'brown', 25, false);\n",
    "\n",
    "MERGE INTO beans a\n",
    "USING new_beans b\n",
    "ON a.name=b.name AND a.color = b.color\n",
    "WHEN MATCHED THEN\n",
    "  UPDATE SET grams = a.grams + b.grams\n",
    "WHEN NOT MATCHED AND b.delicious = true THEN\n",
    "  INSERT *;"
   ]
  },
  {
   "cell_type": "code",
   "execution_count": 0,
   "metadata": {
    "application/vnd.databricks.v1+cell": {
     "cellMetadata": {
      "byteLimit": 2048000,
      "implicitDf": true,
      "rowLimit": 10000
     },
     "inputWidgets": {},
     "nuid": "cc081b37-d4f5-4f5b-8e32-8fe4a931b088",
     "showTitle": false,
     "tableResultSettingsMap": {},
     "title": ""
    }
   },
   "outputs": [],
   "source": [
    "%sql\n",
    "Select * from beans"
   ]
  }
 ],
 "metadata": {
  "application/vnd.databricks.v1+notebook": {
   "computePreferences": null,
   "dashboards": [],
   "environmentMetadata": {
    "base_environment": "",
    "environment_version": "2"
   },
   "inputWidgetPreferences": null,
   "language": "python",
   "notebookMetadata": {
    "mostRecentlyExecutedCommandWithImplicitDF": {
     "commandId": 8604377323303424,
     "dataframes": [
      "_sqldf"
     ]
    },
    "pythonIndentUnit": 4
   },
   "notebookName": "1st notebook",
   "widgets": {}
  },
  "language_info": {
   "name": "python"
  }
 },
 "nbformat": 4,
 "nbformat_minor": 0
}
